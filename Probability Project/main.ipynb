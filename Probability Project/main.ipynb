{
 "cells": [
  {
   "cell_type": "code",
   "execution_count": 11,
   "metadata": {},
   "outputs": [],
   "source": [
    "Name = \"Kunal Mehta, Jing Chen\"\n",
    "Collaborators = \"\""
   ]
  },
  {
   "cell_type": "code",
   "execution_count": 27,
   "metadata": {},
   "outputs": [],
   "source": [
    "import math\n",
    "from scipy.io import loadmat\n",
    "import scipy.stats\n",
    "import numpy as np"
   ]
  },
  {
   "cell_type": "code",
   "execution_count": 37,
   "metadata": {},
   "outputs": [
    {
     "ename": "IndexError",
     "evalue": "index 900 is out of bounds for axis 0 with size 900",
     "output_type": "error",
     "traceback": [
      "\u001b[1;31m---------------------------------------------------------------------------\u001b[0m",
      "\u001b[1;31mIndexError\u001b[0m                                Traceback (most recent call last)",
      "\u001b[1;32m<ipython-input-37-2b6a995d7ae3>\u001b[0m in \u001b[0;36m<module>\u001b[1;34m()\u001b[0m\n\u001b[0;32m     51\u001b[0m         \u001b[0mind\u001b[0m \u001b[1;33m=\u001b[0m \u001b[1;36m0\u001b[0m\u001b[1;33m\u001b[0m\u001b[0m\n\u001b[0;32m     52\u001b[0m         \u001b[1;32mfor\u001b[0m \u001b[0ml\u001b[0m \u001b[1;32min\u001b[0m \u001b[0mrange\u001b[0m\u001b[1;33m(\u001b[0m\u001b[1;36m0\u001b[0m\u001b[1;33m,\u001b[0m\u001b[1;36m5\u001b[0m\u001b[1;33m)\u001b[0m\u001b[1;33m:\u001b[0m\u001b[1;33m\u001b[0m\u001b[0m\n\u001b[1;32m---> 53\u001b[1;33m             \u001b[1;32mif\u001b[0m \u001b[0mprobabs\u001b[0m\u001b[1;33m[\u001b[0m\u001b[0mi\u001b[0m\u001b[1;33m,\u001b[0m\u001b[0ml\u001b[0m\u001b[1;33m]\u001b[0m\u001b[1;33m>\u001b[0m\u001b[0mmx\u001b[0m\u001b[1;33m:\u001b[0m\u001b[1;33m\u001b[0m\u001b[0m\n\u001b[0m\u001b[0;32m     54\u001b[0m                 \u001b[0mmx\u001b[0m \u001b[1;33m=\u001b[0m \u001b[0mprobabs\u001b[0m\u001b[1;33m[\u001b[0m\u001b[0mi\u001b[0m\u001b[1;33m,\u001b[0m\u001b[0ml\u001b[0m\u001b[1;33m]\u001b[0m\u001b[1;33m\u001b[0m\u001b[0m\n\u001b[0;32m     55\u001b[0m                 \u001b[0mind\u001b[0m \u001b[1;33m=\u001b[0m \u001b[0ml\u001b[0m\u001b[1;33m\u001b[0m\u001b[0m\n",
      "\u001b[1;31mIndexError\u001b[0m: index 900 is out of bounds for axis 0 with size 900"
     ]
    }
   ],
   "source": [
    "data = loadmat('data_EAS595.mat')\n",
    "F1 = data['F1']\n",
    "F2 = data['F2']\n",
    "mean1 = [0,0,0,0,0]\n",
    "mean2 = [0,0,0,0,0]\n",
    "for i in range(0,5):\n",
    "    for j in range(0,100):\n",
    "        mean1[i] = mean1[i] + F1[j,i]\n",
    "        mean2[i] = mean2[i] + F2[j,i]\n",
    "\n",
    "for i in range(0,5):\n",
    "    mean1[i] = mean1[i]/100\n",
    "    mean2[i] = mean2[i]/100\n",
    "\n",
    "F1c = np.zeros([100,5])\n",
    "F2c = np.zeros([100,5])\n",
    "\n",
    "for i in range(0,5):\n",
    "    for j in range(0,100):\n",
    "        F1c[j,i] = F1[j,i] - mean1[i]\n",
    "        F2c[j,i] = F2[j,i] - mean2[i]\n",
    "\n",
    "var1 = [0,0,0,0,0]\n",
    "var2 = [0,0,0,0,0]\n",
    "\n",
    "for i in range(0,5):\n",
    "    for j in range(0,100):\n",
    "        var1[i] = var1[i] + F1c[j,i]**2\n",
    "        var2[i] = var2[i] + F2c[j,i]**2\n",
    "\n",
    "for i in range(0,5):\n",
    "    var1[i] = var1[i]/99\n",
    "    var2[i] = var2[i]/99\n",
    "\n",
    "probabs = np.zeros([900,5])\n",
    "predicted = np.zeros([900])\n",
    "\n",
    "for i in range(100,1000):\n",
    "    for j in range(0,5):\n",
    "        for k in range(0,5):\n",
    "            x1 = F1[i][j]\n",
    "            den = (2*math.pi*var1[k])**0.5\n",
    "            num = math.exp(-0.5*((x1 - mean1[k])/math.sqrt(var1[k]))**2)\n",
    "            probabs[i-100,j] = num/den\n",
    "        mx = 0\n",
    "        ind = 0\n",
    "        for l in range(0,5):\n",
    "            if probabs[i][l]>mx:\n",
    "                mx = probabs[i,l]\n",
    "                ind = l\n",
    "        predicted[i-100] = l\n",
    "print(probabs)\n",
    "print('\\n')\n",
    "print(predicted)\n",
    "                \n",
    "    "
   ]
  },
  {
   "cell_type": "code",
   "execution_count": null,
   "metadata": {},
   "outputs": [],
   "source": []
  }
 ],
 "metadata": {
  "kernelspec": {
   "display_name": "Python 3",
   "language": "python",
   "name": "python3"
  },
  "language_info": {
   "codemirror_mode": {
    "name": "ipython",
    "version": 3
   },
   "file_extension": ".py",
   "mimetype": "text/x-python",
   "name": "python",
   "nbconvert_exporter": "python",
   "pygments_lexer": "ipython3",
   "version": "3.7.0"
  }
 },
 "nbformat": 4,
 "nbformat_minor": 2
}
